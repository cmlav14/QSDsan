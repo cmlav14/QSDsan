{
 "cells": [
  {
   "cell_type": "markdown",
   "id": "28c4658c",
   "metadata": {},
   "source": [
    "# Designing a Chlorination Unit <a class=\"anchor\" id=\"top\"></a>\n",
    "\n",
    "- **Prepared by:**\n",
    "    \n",
    "    - [Yalin Li](https://qsdsan.readthedocs.io/en/latest/authors/Yalin_Li.html)\n",
    "    - [Eva Reynaert](https://www.eawag.ch/en/aboutus/portrait/organisation/staff/profile/eva-reynaert/show/)\n",
    "    - [Philipp Steiner](https://www.eawag.ch/en/aboutus/portrait/organisation/staff/profile/philipp-steiner/show/)\n",
    "\n",
    "- **Covered topics:**\n",
    "\n",
    "    - [1. Design Algorithms](#s1)\n",
    "    - [2. Process Algorithms](#s2)\n",
    "    - [3. Unit Classes](#s3)"
   ]
  },
  {
   "cell_type": "markdown",
   "id": "90d4bb2f",
   "metadata": {},
   "source": [
    "---\n",
    "### Note\n",
    "This tutorial is under active development."
   ]
  },
  {
   "cell_type": "markdown",
   "id": "903ee36f",
   "metadata": {},
   "source": [
    "---"
   ]
  },
  {
   "cell_type": "code",
   "execution_count": null,
   "id": "3dc1138e",
   "metadata": {},
   "outputs": [],
   "source": [
    "import qsdsan as qs\n",
    "print(f'This tutorial was made with qsdsan v{qs.__version__}.')"
   ]
  },
  {
   "cell_type": "markdown",
   "id": "efa4852f",
   "metadata": {},
   "source": [
    "### Summary\n",
    "In this example, we will show how we can set up a chlorination process in `QSDsan`, which would include a contact zone, mixing/storage tanks for the chemical sodium hypochlorite (NaOCl) and treated water, and pumps (contact zone, NaOCl dosing, water storage)."
   ]
  },
  {
   "cell_type": "markdown",
   "id": "b7f9ccfc",
   "metadata": {},
   "source": [
    "## 1. Design Algorithms <a class=\"anchor\" id=\"s1\"></a>"
   ]
  },
  {
   "cell_type": "markdown",
   "id": "de048b24",
   "metadata": {},
   "source": [
    "### 1.1. Contact zone"
   ]
  },
  {
   "cell_type": "markdown",
   "id": "ac3a9505",
   "metadata": {},
   "source": [
    "In the contact zone, chlorine (in the form of NaOCl) is added and reacts with the influent stream to inactivate microorganims (e.g., viruses, bacteria, protoza). Two configurations - serpentine tubing and cylindrical tank - are considered here."
   ]
  },
  {
   "cell_type": "markdown",
   "id": "7fcd5b7e",
   "metadata": {},
   "source": [
    "**Q1:** Below it only outlines method to calculate CT, we'll still need either a C or a T, so I assume the user will provide the T"
   ]
  },
  {
   "cell_type": "markdown",
   "id": "f5a90989",
   "metadata": {},
   "source": [
    "#### 1.1.1. Serpentine tubing"
   ]
  },
  {
   "cell_type": "markdown",
   "id": "a18753e5",
   "metadata": {},
   "source": [
    "For the serpentine tubing configuration (continuous), the tubing will be designed based on the baffling factor, pipe length-to-diameter ratio (aspect ratio), and the desired contact time."
   ]
  },
  {
   "cell_type": "markdown",
   "id": "c524fc12",
   "metadata": {},
   "source": [
    "Specifically,\n",
    "\n",
    "$$\n",
    "T_{DT} [min] = \\frac{T_{contact}}{BF} = \\frac{L_p}{v} = L_p * \\frac{\\pi*{(\\frac{d_p}{2})^2}}{Q} = (AS*d_p) * \\frac{\\pi*{(\\frac{d_p}{2})^2}}{Q}\n",
    "$$\n",
    "\n",
    "where:\n",
    "- $T_{DT}$ is the theoretical detention time\n",
    "- $T_{contact}$ is the desired contact time\n",
    "- BF is the baffling factor, 0.7 for the serpentine tubing configuration\n",
    "- $L_p$ and $d_p$ are the length and diameter of the pipe, respectively\n",
    "- AS is the aspect ratio as in $\\frac{L_p}{d_p}$, recommended to be ≧160 by the Colorado Department of Public Health and Environment as in page 16 of this [Baffling Factor Guidance Manual](https://www.colorado.gov/pacific/sites/default/files/CDPHE%20Baffling%20Factor%20Guidance%20Manual.pdf)\n",
    "- Q and v are the volumetric flow rate and velocity of the influent stream, respectively"
   ]
  },
  {
   "cell_type": "markdown",
   "id": "13b2bd02",
   "metadata": {},
   "source": [
    "solve for $d_p$:\n",
    "\n",
    "$$\n",
    "d_p [m] = (\\frac{4T_{DT}*Q}{\\pi*AS})^{1/3}\n",
    "$$"
   ]
  },
  {
   "cell_type": "markdown",
   "id": "e28c8246",
   "metadata": {},
   "source": [
    "Then we can calculate the amount of material needed:\n",
    "\n",
    "$$\n",
    "V_{PVC} [m^3] = \\pi * L_p * ((\\frac{d_p}{2}+t_{pipe})^2 - d_p^2)\n",
    "$$\n",
    "\n",
    "where $t_{pipe}$ is the thickness of the pipe."
   ]
  },
  {
   "cell_type": "markdown",
   "id": "a95590a7",
   "metadata": {},
   "source": [
    "**Q2:** The original equation has $\\frac{d_p+t_{pipe}}{2}$ which I think is inaccurate, so I changed it to ($\\frac{d_p}{2}+t_{pipe})$"
   ]
  },
  {
   "cell_type": "markdown",
   "id": "7b50cbfc",
   "metadata": {},
   "source": [
    "**Q3:** Additionally, in choosing the tubings, as the size of the tubes are mostly at fixed intervals, so I'd suggest looking into what the actual sizes of the tubes are (e.g., I did a quick search and found this [here](https://pvcpipesupplies.com/pvc-pipe), but it's a U.S. site), which can also provide the cost data"
   ]
  },
  {
   "cell_type": "markdown",
   "id": "a903a2e1",
   "metadata": {},
   "source": [
    "#### 1.1.2. Cylindrical tank"
   ]
  },
  {
   "cell_type": "markdown",
   "id": "4408754d",
   "metadata": {},
   "source": [
    "For the cylindrical tank configuration (batch), the volume is calculated based on the refill interval (set to 7 days), tank height-to-diameter ratio (set to 2), and the total tank-to-chlorine solution ratio"
   ]
  },
  {
   "cell_type": "markdown",
   "id": "aa1d79bc",
   "metadata": {},
   "source": [
    "**Q4:** I'm confused by how the cylindrical tank volume is calcualted - from the slide it's merely based on the volume of the NaOCl solution, but we should also include the influent stream\n",
    "\n",
    "I think we should probably use an approach similar to the serpentine tubing above (e.g., assume a retention time, baffling factor).\n",
    "\n",
    "However, it also occurs to me that the equations in the slide is similar to what we'll use to calculate the size of the storage of NaOCl solution, so can you also clarify what this tank is used for?"
   ]
  },
  {
   "cell_type": "markdown",
   "id": "a269f343",
   "metadata": {},
   "source": [
    "The total PVC volume is:\n",
    "\n",
    "$$\n",
    "V_{PVC} [m^3] = V_{wall} + V_{floor}\n",
    "$$\n",
    "\n",
    "$$\n",
    "V_{wall} = \\pi*h_{cyl}*((d_{cyl}+2*t_{cyl})^2-d_{cyl}^2) = \\pi*AS*d_{cyl}*((d_{cyl}+2*t_{cyl})^2-d_{cyl}^2)\n",
    "$$\n",
    "\n",
    "$$\n",
    "V_{floor} = \\pi*(d_{cyl}+2*t_{cyl})^2*t_{cyl}\n",
    "$$\n",
    "\n",
    "where:\n",
    "- $h_{cyl}$, $d_{cyl}$, and $t_{cyl}$ are the height, inner diameter, and wall thickness of the cylindrical tank, respectively\n",
    "- AS is the aspect ratio as in $\\frac{h_cyl}{d_cyl}$"
   ]
  },
  {
   "cell_type": "markdown",
   "id": "5508b30c",
   "metadata": {},
   "source": [
    "**Q5:** In calculating $M_{cyl}$, the equation in the slide uses $\\frac{d_{cyl}}{2}$ to represent $h_{cyl}$, I think it should be $2d_{cyl}$ (as in the equation I wrote above if the height-to-diameter ratio is 2?"
   ]
  },
  {
   "cell_type": "markdown",
   "id": "4d4e4a64",
   "metadata": {},
   "source": [
    "**Q6:** Additionally, I think the thickness of the tank should be larger than the one assumed for the tubings, I also realized that our generic algorithms for tank design are mostly for concrete/stainless steel tanks, so we'll need assumptions/literature to determine the dimensions of the tanks."
   ]
  },
  {
   "cell_type": "markdown",
   "id": "73664ea6",
   "metadata": {},
   "source": [
    "### 1.2. Pumps"
   ]
  },
  {
   "cell_type": "markdown",
   "id": "564e9603",
   "metadata": {},
   "source": [
    "For the design of the pumps, we will use the general algorithms in the `WWTpump` class in `QSDsan` (despite of the name, the pump algorithms are not limited to wastewater treatment settings)."
   ]
  },
  {
   "cell_type": "markdown",
   "id": "c92e5d7d",
   "metadata": {},
   "source": [
    "### 1.3. Tanks"
   ]
  },
  {
   "cell_type": "markdown",
   "id": "676f445a",
   "metadata": {},
   "source": [
    "For mixing/storage thanks, we will calculate the volume based on the flow rate, retention time, and a safety factor. Power needed for the mixing tank will be based on the volume of the tank."
   ]
  },
  {
   "cell_type": "markdown",
   "id": "71249f0a",
   "metadata": {},
   "source": [
    "## 2. Process Algorithms <a class=\"anchor\" id=\"s2\"></a>"
   ]
  },
  {
   "cell_type": "markdown",
   "id": "b2f7b365",
   "metadata": {},
   "source": [
    "### 2.1. Chlorine dose"
   ]
  },
  {
   "cell_type": "markdown",
   "id": "28a66221",
   "metadata": {},
   "source": [
    "To determine the amount of NaOCl to be added, we will need to calculate the CT (concentration$*$time) values required by the inactivation target."
   ]
  },
  {
   "cell_type": "markdown",
   "id": "eef6d748",
   "metadata": {},
   "source": [
    "Let's assume that we will use the following table from U.S. Environmental Protection Agency to determine the CT (in min-mg/L) for 4-log inactivation of viruses by free chlorine (Table B-2 on Page B-3 in this [Disinfection Profiling and Benchmarking Technical Guidance Manual](https://www.epa.gov/system/files/documents/2022-02/disprof_bench_3rules_final_508.pdf))."
   ]
  },
  {
   "cell_type": "markdown",
   "id": "76e17317",
   "metadata": {},
   "source": [
    "| Temperature (°C) | pH=6-9 | pH=10 |\n",
    "|       :-:        |   :-:  |  :-:  |\n",
    "|       0.5        |   12   |   90  |\n",
    "|         5        |    8   |   60  |\n",
    "|        10        |    6   |   45  |\n",
    "|        15        |    4   |   30  |\n",
    "|        20        |    3   |   22  |\n",
    "|        25        |    2   |   15  |"
   ]
  },
  {
   "cell_type": "markdown",
   "id": "335e12e8",
   "metadata": {},
   "source": [
    "**Q7:** I *think* the table in the slide is the old one (maybe from [here](https://www.google.com/books/edition/Disinfection_Profiling_and_Benchmarking/F5AehDWyEa8C?hl=en&gbpv=1&dq=table+3-5.+required+ct+values+(mg-min/L)+for+4-log+inactivation+of+viruses+by+free+chlorine,+ph+6.0-9.0&pg=SA3-PA20&printsec=frontcover)?), so I used this newer table instead, feel free to change back"
   ]
  },
  {
   "cell_type": "markdown",
   "id": "d0f4cefc",
   "metadata": {},
   "source": [
    "With a given contact time, we can calculate the residual free chlorine concentration $C_{res}$:\n",
    "\n",
    "$$\n",
    "C_{res} [\\frac{mg}{L}] = \\frac{CT}{C_{res}}\n",
    "$$"
   ]
  },
  {
   "cell_type": "markdown",
   "id": "3d8b2132",
   "metadata": {},
   "source": [
    "Based on the following equation to take into account the amount of chlorine lost to reactions with organics (quantified as the total organic carbon, TOC) and UVA, we can back-calculate $C_0$ using $C_{res}$:\n",
    "\n",
    "$$\n",
    "C_{res} = -0.8404C_0*ln\\frac{C_0}{C_{res}} - 0.404TOC*T_{contact}*(\\frac{C_0}{UVA})^{-0.9108} + C_0\n",
    "$$"
   ]
  },
  {
   "cell_type": "markdown",
   "id": "fab7a599",
   "metadata": {},
   "source": [
    "**Q8:** I'm not sure how TOC and UVA are quantified (e.g., units for them in the equation above)?"
   ]
  },
  {
   "cell_type": "markdown",
   "id": "94511bc0",
   "metadata": {},
   "source": [
    "With $C_0$ solved, we will know how much NaOCl we need to add to achieve the desired CT."
   ]
  },
  {
   "cell_type": "markdown",
   "id": "901f93a0",
   "metadata": {},
   "source": [
    "### 2.2. Pumping energy"
   ]
  },
  {
   "cell_type": "markdown",
   "id": "b4b0b0fc",
   "metadata": {},
   "source": [
    "Pumping energy can be calculated based on the flow rate and head pressure/loss as:\n",
    "\n",
    "$$\n",
    "P [kW] = \\frac{mgH}{1000\\eta}\n",
    "$$\n",
    "\n",
    "where:\n",
    "- $m$ is mass flow rate in $[\\frac{kg}{s}]$\n",
    "- $H$ is the head pressure/loss $[m]$\n",
    "- $\\eta$ is the typical pump efficiency (set to 60%)"
   ]
  },
  {
   "cell_type": "markdown",
   "id": "b1aca045",
   "metadata": {},
   "source": [
    "#### 2.2.1. For chlorine addition"
   ]
  },
  {
   "cell_type": "markdown",
   "id": "1e38ac95",
   "metadata": {},
   "source": [
    "To get the chlorine feed pump power, mass flow rate of chlorine can be calculated from the chlorine dose $C_0$ and Q) and the head pressure H is assumed to be 70.3 m."
   ]
  },
  {
   "cell_type": "markdown",
   "id": "36424f5a",
   "metadata": {},
   "source": [
    "#### 2.2.2. For contact zone"
   ]
  },
  {
   "cell_type": "markdown",
   "id": "cd04e799",
   "metadata": {},
   "source": [
    "**Serpentine tubing**\n",
    "\n",
    "In the case of serpentine tubing, head loss is the sum of the major head loss ($H_f$; due to friction) and minor head loss ($H_m$; due to bends in flow):\n",
    "\n",
    "$$\n",
    "H [m] = H_f + H_m\n",
    "$$"
   ]
  },
  {
   "cell_type": "markdown",
   "id": "edfb0fc2",
   "metadata": {},
   "source": [
    "For the major head loss, the [Hazen-Williams equation](https://en.wikipedia.org/wiki/Hazen%E2%80%93Williams_equation) can be used:\n",
    "\n",
    "$$\n",
    "H_f = \\frac{0.2083*(\\frac{100*Q}{C})^{1.852}}{100*d_p^{4.8655}} * L_p\n",
    "$$\n",
    "\n",
    "where C is the roughness coefficient and assumed to be 150 for PVC."
   ]
  },
  {
   "cell_type": "markdown",
   "id": "9e03bb1c",
   "metadata": {},
   "source": [
    "**Q9:** Do we have a citation for this equation (I only found the general one from Wikipedia, but the values of the exponents seem very specific"
   ]
  },
  {
   "cell_type": "markdown",
   "id": "634c9749",
   "metadata": {},
   "source": [
    "The minor head loss can be calculated as:\n",
    "\n",
    "$$\n",
    "H_m = \\frac{\\epsilon*v^2}{2g} * N_{bend}\n",
    "$$\n",
    "\n",
    "where:\n",
    "- $\\epsilon$ is the minor loss coefficient and assumed to be 1.5\n",
    "- $N_{bend}$ is the number of bends can be calculated by dividing the total length by the segment length\n",
    "\n",
    "$N_{bend}$ can be calculated as\n",
    "\n",
    "$$\n",
    "N_{bend} = \\frac{L_p}{L_{seg}}\n",
    "$$\n",
    "\n",
    "and the segment length $L_{seg}$ can be calculated based on the segment length-to-diameter ratio (recommended to be ≦40 by the Colorado Department of Public Health and Environment as in page 15 of this [Baffling Factor Guidance Manual](https://www.colorado.gov/pacific/sites/default/files/CDPHE%20Baffling%20Factor%20Guidance%20Manual.pdf))."
   ]
  },
  {
   "cell_type": "markdown",
   "id": "481113f2",
   "metadata": {},
   "source": [
    "**Cylindrical tank**\n",
    "\n",
    "For cylindrical tank, there is no minor head loss, therefore the total head loss only comes from the friction loss:\n",
    "\n",
    "$$\n",
    "H = H_f = \\frac{0.2083*(\\frac{100*Q}{C})^{1.852}}{100*d_{cyl}^{4.8655}} * h_{cyl}\n",
    "$$"
   ]
  },
  {
   "cell_type": "markdown",
   "id": "f53faf8f",
   "metadata": {},
   "source": [
    "[Back to top](#top)"
   ]
  },
  {
   "cell_type": "markdown",
   "id": "b6a928f2",
   "metadata": {},
   "source": [
    "## 3. Unit Classes <a class=\"anchor\" id=\"#s3\"></a>"
   ]
  },
  {
   "cell_type": "markdown",
   "id": "d5691410",
   "metadata": {},
   "source": [
    "### 3.1. Contact zone"
   ]
  },
  {
   "cell_type": "markdown",
   "id": "bbe29d99",
   "metadata": {},
   "source": [
    "For the contact zone, we need to create a new class. Check out the tutorials on `SanUnit` ([basic](https://qsdsan.readthedocs.io/en/latest/tutorials/4_SanUnit_basic.html), [advanced](https://qsdsan.readthedocs.io/en/latest/tutorials/5_SanUnit_advanced.html)) for how to make a new `SanUnit` subclass."
   ]
  },
  {
   "cell_type": "code",
   "execution_count": null,
   "id": "2081965a",
   "metadata": {},
   "outputs": [],
   "source": [
    "from math import log, pi, ceil\n",
    "from flexsolve import IQ_interpolation\n",
    "from qsdsan import SanUnit, Construction\n",
    "from qsdsan.sanunits import WWTpump\n",
    "\n",
    "class ContactZone(SanUnit):\n",
    "    '''\n",
    "    Contact zone for water disinfection using chlorine (added in the form of sodium hypochlorite, NaOCl).\n",
    "    \n",
    "    Parameters\n",
    "    ----------\n",
    "    ins : Iterable(obj)\n",
    "        Influent stream, NaOCl (updated in upon unit simulation).\n",
    "    outs : obj\n",
    "        Disinfected stream.\n",
    "    configuration : str\n",
    "        Can be either 'serpentine_tubing' or 'cylindrical_tank'.\n",
    "    target_CT : float\n",
    "        Desired CT (concentration*time) for microorganism in min-mg/L.\n",
    "    contact_time : float\n",
    "        Desired contact time in min.\n",
    "    UVA : float\n",
    "        Disinfection credit from UVA.\n",
    "    PVC_thickness : float\n",
    "        Thickness of the PVC material in m.\n",
    "    material_unit_costs : dict(str, float)\n",
    "        Unit cost of the materials in their functional units.\n",
    "        \n",
    "    Examples\n",
    "    --------\n",
    "    Here we will skip this as we will show how to use it later.\n",
    "    '''\n",
    "    _N_ins = 2 # influent stream, NaOCl solution\n",
    "    _N_outs = 1 # disinfected water\n",
    "    _baffling_factor = {\n",
    "        'serpentine_tubing': 0.7,\n",
    "        'cylindrical_tank': 0.1,\n",
    "    }\n",
    "    _aspect_ratio = {\n",
    "        'serpentine_tubing': 160,\n",
    "        'cylindrical_tank': 2,\n",
    "    }\n",
    "    segment_L_to_dia = 40 # segment length to diameter ratio for serpentine tubing\n",
    "    C = 150 # roughness coefficient\n",
    "    epsilon = 1.5 # minor loss coefficient\n",
    "    pump_eff = 0.6\n",
    "    \n",
    "    def __init__(self, ID='', ins=None, outs=(), thermo=None, init_with='WasteStream',\n",
    "                 configuration='serpentine_tubing',\n",
    "                 target_CT=4, # based on the table, set default at T=15°C and pH=6-9\n",
    "                 contact_time=10, UVA=1, PVC_thickness=0.005,\n",
    "                 material_unit_costs={ # all made up now\n",
    "                     'PVC': 10,\n",
    "                     'StainlessSteel': 10,\n",
    "                 },\n",
    "                 **kwargs):\n",
    "        SanUnit.__init__(self, ID, ins, outs, thermo, init_with)\n",
    "        self.contact_time = contact_time\n",
    "        self.configuration = configuration\n",
    "        self.target_CT = target_CT\n",
    "        self.UVA = UVA\n",
    "        self.PVC_thickness = PVC_thickness\n",
    "        for attr, val in kwargs:\n",
    "            setattr(self, kwargs)\n",
    "        \n",
    "        # To consider LCA impacts from the construction material\n",
    "        self.construction = (\n",
    "            Construction('contact_zone_PVC', linked_unit=self,\n",
    "                         item='PVC', quantity_unit='kg',\n",
    "                         price=material_unit_costs['PVC']),\n",
    "            Construction('contact_zone_SS', linked_unit=self,\n",
    "                         item='StainlessSteel', quantity_unit='kg',\n",
    "                         price=material_unit_costs['StainlessSteel']),\n",
    "        )\n",
    "        \n",
    "        # Pump\n",
    "        ID = self.ID\n",
    "        mixed = self._mixed = self.ins[0].copy(ID+'_mixed')\n",
    "        self.pump = WWTpump(\n",
    "            ID=ID+'_pump', ins=mixed.proxy(mixed.ID+'_proxy'),\n",
    "            pump_type='', # use the generic pump algorithm\n",
    "            N_pump=1, capacity_factor=1, include_pump_cost=True,\n",
    "            include_building_cost=False, include_OM_cost=False,\n",
    "        )\n",
    "        \n",
    "    # Target function to solve C_0\n",
    "    @staticmethod\n",
    "    def _C_res_at_C_0(C_0, TOC, contact_time, UVA, C_res):\n",
    "        C_res2 = -0.8404*C_0*log(C_0/C_res) - 0.404*TOC*contact_time*(C_0/UVA)^(-0.9108) + C_0\n",
    "        return C_res2-C_res\n",
    "        \n",
    "    # Implement process algorithms\n",
    "    def _run(self):\n",
    "        inf, naocl = self.ins\n",
    "        eff, = self.outs\n",
    "        \n",
    "        # Calculate C_res\n",
    "        TOC = inf.TOC # in mg/L\n",
    "        contact_time = self.contact_time\n",
    "        C_res = self.target_CT / contact_time # in mg/L\n",
    "        C_0 = IQ_interpolation( # in mg/L\n",
    "            f=self._C_res_at_C_0, x0=C_res, x1=100*C_res, # assume that C_0 won't be >100X of C_res\n",
    "            xtol=1e-3, ytol=1e-6, args=(TCO, contact_time, UVA, C_res),\n",
    "            checkbounds=False)\n",
    "        naocl.empty()\n",
    "        C_naocl = C_0/70.91*74.44 # 1-to-1 molar conversion of C_0 (for Cl2) to NaOCl\n",
    "        naocl.imass['NaOCl'] = m_naocl = inf.F_vol * C_naocl / 1000 # 1000*m3*mg/L = kg\n",
    "        naocl.imass['H2O'] = m_naocl/0.15-m_naocl # 15 wt/wt% NaOCl solution\n",
    "        \n",
    "        eff.mix_from((inf, naocl))\n",
    "        eff.imass['NaOCl'] *= C_res/C_0 # account for the consumed NaOCl\n",
    "        \n",
    "    _units = { # units of measure for the design parameters\n",
    "        'Pipe diameter': 'm',\n",
    "        'Pipe length': 'm',\n",
    "        'Tank diameter': 'm',\n",
    "        'Tank height': 'm',\n",
    "        'Total PVC': 'm3',\n",
    "        'Pump head': 'm',\n",
    "        'Pump stainless steel': 'kg',\n",
    "    }\n",
    "        \n",
    "    # Implement design algorithms\n",
    "    def _design(self):\n",
    "        D = self.design_results\n",
    "        D.clear() # in case that the configuration is changed\n",
    "        # Inputs needed by both configurations\n",
    "        t_dt = self.contact_time / self.baffling_factor # theoretical detention time\n",
    "        Q = self.F_vol_in # m3/hr\n",
    "        t_PVC, AS, C = self.PVC_thickness, self.aspect_ratio, self.C\n",
    "        dia = (4*t_dt*Q/(pi*AS))^(1/3)\n",
    "        dia_out = dia + 2*t_PVC\n",
    "        if self.configuration == 'serpentine_tubing':\n",
    "            # PVC reactor\n",
    "            D['Pipe diameter'] = dia\n",
    "            L_p = D['Pipe length'] = dia * AS\n",
    "            V_PVC = D['Total PVC'] = pi * L_p * ((dia_out/2)^2-dia^2)\n",
    "            # Pump head\n",
    "            H_f = 0.2083*(100*Q/C)^1.852/(100*dia^4.8655)*L_p\n",
    "            v = Q/(pi*dia^2)\n",
    "            N_bend = ceil(L_p/(dia*self.segment_L_to_dia))\n",
    "            H_m = self.eta*v^2/(2*9.81)*N_bend\n",
    "            H = D['Pump head'] = H_f + H_m\n",
    "        else:\n",
    "            # PVC reactor\n",
    "            D['Tank diameter'] = dia\n",
    "            h_cyl = D['Tank height'] = dia * AS\n",
    "            V_wall = pi*h_cyl*(dia_out^2-dia^2)\n",
    "            V_floor = pi * dia_out^2 * t_PVC\n",
    "            V_PVC = D['Total PVC'] = V_wall + V_floor\n",
    "            # Pump head\n",
    "            H = H_f = 0.2083*(100*Q/C)^1.852/(100*dia^4.8655)*h_cyl\n",
    "\n",
    "        # Pump\n",
    "        self.mixed.mix_from(self.ins)\n",
    "        pump = self.pump\n",
    "        pump.simulate()\n",
    "        m_ss = D['Pump stainless steel'] = pump.design_results['Pump stainless steel']\n",
    "        self.power_utility.rate = self.F_mass_in*9.81*H/(1000*self.pump_eff)\n",
    "        \n",
    "        # Construction materials for TEA/LCA\n",
    "        self.construction[0].quantity = V_PVC\n",
    "        self.construction[1].quantity = m_ss\n",
    "        self.add_construction(add_cost=True)\n",
    "        \n",
    "    _F_BM_default = {\n",
    "        'contact_zone_PVC': 1,\n",
    "        'contact_zone_SS': 1,\n",
    "        'Pump': 1.18*(1+0.007/100),\n",
    "    }\n",
    "    def _cost(self):\n",
    "        C = self.baseline_purchase_costs\n",
    "        C['Pump'] = self.pump.baseline_purchase_costs['Pump']\n",
    "            \n",
    "    # Add these as properties to include checks/flexibility\n",
    "    @property\n",
    "    def configuration(self):\n",
    "        '''Configuration of the contact zone, can be either \"serpentine_tubing\" or \"cylindrical tank\".'''\n",
    "        return self._configuration\n",
    "    @configuration.setter\n",
    "    def configuration(self, config):\n",
    "        lower = config.lower()\n",
    "        if lower in ('serpentine_tubing', 'cylindrical_tank'):\n",
    "            self._configuration = lower\n",
    "        else:\n",
    "            raise ValueError('`configuration` can only be \"serpentine_tubing\" or \"cylindrical_tank\", '\n",
    "                             f'not \"{config}\".')\n",
    "        \n",
    "    @property\n",
    "    def baffling_factor(self):\n",
    "        '''Baffling factor for the configuration, should be between 0 and 1 where 1 is perfect (plug flow).'''\n",
    "        return self._baffling_factor[self.configuration]\n",
    "    @baffling_factor.setter\n",
    "    def baffling_factor(self, BF):\n",
    "        if 0 < BF <= 1:\n",
    "            self._baffling_factor[self.configuration] = BF\n",
    "        else:\n",
    "            raise ValueError(f'`baffling_factor` should be within (0, 1], not \"{BF}\".')\n",
    "            \n",
    "    @property\n",
    "    def aspect_ratio(self):\n",
    "        '''Pipe length over diameter (serpentine piping) or tank height over diameter (cylindrical tank).'''\n",
    "        return self._aspect_ratio[self.configuration]\n",
    "    @aspect_ratio.setter\n",
    "    def aspect_ratio(self, AS):\n",
    "        self._aspect_ratio[self.configuration] = AS"
   ]
  },
  {
   "cell_type": "markdown",
   "id": "d336dead",
   "metadata": {},
   "source": [
    "### 3.2. ChlorineMixing"
   ]
  },
  {
   "cell_type": "markdown",
   "id": "55745326",
   "metadata": {},
   "source": [
    "For the chlorine addition/mixing tank, we will use the general algorithms of a `MixTank`, but add an auxiliary pump."
   ]
  },
  {
   "cell_type": "markdown",
   "id": "2620235a",
   "metadata": {},
   "source": [
    "**Q10:** What is the assumed lifetime of the materials and the lifetime of the TEA/LCA?"
   ]
  },
  {
   "cell_type": "code",
   "execution_count": null,
   "id": "1af670fd",
   "metadata": {},
   "outputs": [],
   "source": [
    "from qsdsan.sanunits import MixTank\n",
    "\n",
    "class ChlorineMixing(MixTank):\n",
    "    '''\n",
    "    A subclass of `MixTank` with an auxiliary pump.\n",
    "    \n",
    "    Parameters\n",
    "    ----------\n",
    "    ins : Iterable(obj)\n",
    "        Influent streams to be mixed.\n",
    "    outs : obj\n",
    "        Disinfected stream.\n",
    "    head_pressure : float\n",
    "        Assumed head pressure for the pump.\n",
    "        \n",
    "    See Also\n",
    "    --------\n",
    "    `qsdsan.sanunits.MixTank <https://qsdsan.readthedocs.io/en/latest/sanunits/tanks.html#mixtank>`_\n",
    "    '''\n",
    "    def __init__(self, ID='', ins=None, outs=(), thermo=None, init_with='WasteStream',\n",
    "                 head_pressure=70.3, **kwargs):\n",
    "        super().__init__(self, ID, ins, outs, thermo, init_with, **kwargs)\n",
    "        self.head_pressure = head_pressure\n",
    "        eff = self.outs[0]\n",
    "        self.pump = WWTpump(\n",
    "            ID=self.ID+'_pump', ins=eff.proxy(eff.ID+'_proxy'),\n",
    "            pump_type='', # use the generic pump algorithm\n",
    "            N_pump=1, capacity_factor=1, include_pump_cost=True,\n",
    "            include_building_cost=False, include_OM_cost=False,\n",
    "        )\n",
    "        self._units['Pump stainless steel'] = 'kg'\n",
    "        self._BM['Pump'] = 1.18*(1+0.007/100)\n",
    "    \n",
    "    def _design(self):\n",
    "        super()._design()\n",
    "        D = self.design_results\n",
    "        # Pump\n",
    "        pump = self.pump\n",
    "        pump.simulate()\n",
    "        m_ss = D['Pump stainless steel'] = pump.design_results['Pump stainless steel']\n",
    "\n",
    "    def _cost(self):\n",
    "        pump = self.pump\n",
    "        self.baseline_purchase_costs['Pump'] = pump.baseline_purchase_costs['Pump']\n",
    "        self.power_utility.rate = pump.power_utility.rate"
   ]
  },
  {
   "cell_type": "code",
   "execution_count": null,
   "id": "f6831356",
   "metadata": {},
   "outputs": [],
   "source": []
  },
  {
   "cell_type": "code",
   "execution_count": null,
   "id": "99a4995a",
   "metadata": {},
   "outputs": [],
   "source": []
  },
  {
   "cell_type": "code",
   "execution_count": null,
   "id": "947b7071",
   "metadata": {},
   "outputs": [],
   "source": []
  },
  {
   "cell_type": "code",
   "execution_count": null,
   "id": "086c1d26",
   "metadata": {},
   "outputs": [],
   "source": []
  },
  {
   "cell_type": "code",
   "execution_count": null,
   "id": "2b0601d6",
   "metadata": {},
   "outputs": [],
   "source": []
  },
  {
   "cell_type": "code",
   "execution_count": null,
   "id": "7d3e4e1b",
   "metadata": {},
   "outputs": [],
   "source": []
  },
  {
   "cell_type": "code",
   "execution_count": null,
   "id": "31ad67c7",
   "metadata": {},
   "outputs": [],
   "source": []
  },
  {
   "cell_type": "code",
   "execution_count": null,
   "id": "25c5fa8a",
   "metadata": {},
   "outputs": [],
   "source": []
  },
  {
   "cell_type": "code",
   "execution_count": null,
   "id": "e52528d0",
   "metadata": {},
   "outputs": [],
   "source": []
  },
  {
   "cell_type": "markdown",
   "id": "62d9849e",
   "metadata": {},
   "source": [
    "## 4. Process System"
   ]
  },
  {
   "cell_type": "markdown",
   "id": "650a5f5c",
   "metadata": {},
   "source": [
    "Finally it's time to create and simulate the entire system."
   ]
  },
  {
   "cell_type": "code",
   "execution_count": null,
   "id": "68423ea8",
   "metadata": {},
   "outputs": [],
   "source": [
    "# Identify the components needed for simulation\n",
    "from qsdsan import Component, Components, set_thermo\n",
    "kwargs = {\n",
    "    'phase': 'l',\n",
    "    'particle_size': 'Soluble',\n",
    "    'degradability': 'Undegradable',\n",
    "    'organic': False,\n",
    "}\n",
    "H2O = Component('H2O', **kwargs)\n",
    "NaOCl = Component('NaOCl', **kwargs)\n",
    "HCl = Component('HCl', **kwargs)\n",
    "HOCl = Component('HOCl', **kwargs)\n",
    "NH3 = Component('NH3', **kwargs) # assumed to be liquefied NH3\n",
    "cmps = Components([H2O, NaOCl, HCl, HOCl, NH3])\n",
    "cmps.default_compile() # check the documentation for the assumptions behind `default_compile`\n",
    "cmps.set_alias('H2O', 'Water')\n",
    "cmps.set_alias('NH3', 'Ammonia')\n",
    "set_thermo(cmps)"
   ]
  },
  {
   "cell_type": "code",
   "execution_count": null,
   "id": "64804c23",
   "metadata": {},
   "outputs": [],
   "source": []
  },
  {
   "cell_type": "code",
   "execution_count": null,
   "id": "2fd30f57",
   "metadata": {},
   "outputs": [],
   "source": []
  },
  {
   "cell_type": "code",
   "execution_count": null,
   "id": "72440dfe",
   "metadata": {},
   "outputs": [],
   "source": []
  },
  {
   "cell_type": "code",
   "execution_count": null,
   "id": "f0049e0e",
   "metadata": {},
   "outputs": [],
   "source": []
  },
  {
   "cell_type": "code",
   "execution_count": null,
   "id": "33c60ab6",
   "metadata": {},
   "outputs": [],
   "source": []
  },
  {
   "cell_type": "code",
   "execution_count": null,
   "id": "a83ecc29",
   "metadata": {},
   "outputs": [],
   "source": []
  },
  {
   "cell_type": "code",
   "execution_count": null,
   "id": "df2274a3",
   "metadata": {},
   "outputs": [],
   "source": []
  },
  {
   "cell_type": "code",
   "execution_count": null,
   "id": "257b7c8a",
   "metadata": {},
   "outputs": [],
   "source": []
  },
  {
   "cell_type": "code",
   "execution_count": null,
   "id": "a592d8a3",
   "metadata": {},
   "outputs": [],
   "source": []
  },
  {
   "cell_type": "code",
   "execution_count": null,
   "id": "7e7599b4",
   "metadata": {},
   "outputs": [],
   "source": []
  },
  {
   "cell_type": "code",
   "execution_count": null,
   "id": "275115c2",
   "metadata": {},
   "outputs": [],
   "source": []
  },
  {
   "cell_type": "markdown",
   "id": "9d9a485a",
   "metadata": {},
   "source": [
    "[Back to top](#top)"
   ]
  }
 ],
 "metadata": {
  "kernelspec": {
   "display_name": "Python 3 (ipykernel)",
   "language": "python",
   "name": "python3"
  },
  "language_info": {
   "codemirror_mode": {
    "name": "ipython",
    "version": 3
   },
   "file_extension": ".py",
   "mimetype": "text/x-python",
   "name": "python",
   "nbconvert_exporter": "python",
   "pygments_lexer": "ipython3",
   "version": "3.8.12"
  }
 },
 "nbformat": 4,
 "nbformat_minor": 5
}
